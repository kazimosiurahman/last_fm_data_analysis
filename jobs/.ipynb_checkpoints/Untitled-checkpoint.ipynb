{
 "cells": [
  {
   "cell_type": "code",
   "execution_count": 22,
   "metadata": {},
   "outputs": [],
   "source": [
    "from etl_config import *\n",
    "from transform import *\n",
    "from load_data import LoadData\n",
    "from transform import Transform\n",
    "from pandas.testing import assert_frame_equal\n",
    "import pandas as pd\n",
    "\n",
    "import os\n",
    "import shutil\n",
    "\n",
    "nameofApp = 'LastFManalysisTest'"
   ]
  },
  {
   "cell_type": "code",
   "execution_count": 2,
   "metadata": {},
   "outputs": [
    {
     "data": {
      "text/plain": [
       "'/Users/kazi.rahman/Desktop/pyspark_learning/spark_vscodechange/jobs'"
      ]
     },
     "execution_count": 2,
     "metadata": {},
     "output_type": "execute_result"
    }
   ],
   "source": [
    "pwd"
   ]
  },
  {
   "cell_type": "code",
   "execution_count": 29,
   "metadata": {},
   "outputs": [],
   "source": [
    "spark_ip = LoadData( nameofApp , input_location = '../test_output/Input_test.tsv')\n",
    "spark_ip.read_data()\n",
    "\n",
    "trans = Transform(spark_ip.data)\n",
    "\n",
    "trans.transform_q2()\n",
    "trans.transform_q1()\n",
    "trans.transform_q3()"
   ]
  },
  {
   "cell_type": "code",
   "execution_count": 31,
   "metadata": {},
   "outputs": [],
   "source": [
    "assert_frame_equal(trans.output3.toPandas() , pd.read_csv('../test_output/Output3.tsv',sep='\\t'))"
   ]
  },
  {
   "cell_type": "code",
   "execution_count": 32,
   "metadata": {},
   "outputs": [],
   "source": [
    "assert_frame_equal(trans.output2.toPandas() , pd.read_csv('../test_output/Output2.tsv',sep='\\t'))"
   ]
  },
  {
   "cell_type": "code",
   "execution_count": 34,
   "metadata": {},
   "outputs": [],
   "source": [
    "assert_frame_equal(trans.output3.toPandas() , pd.read_csv('../test_output/Output3.tsv',sep='\\t'))\n",
    "\n",
    "assert_frame_equal(trans.output2.toPandas() , pd.read_csv('../test_output/Output2.tsv',sep='\\t'))\n",
    "\n",
    "\n",
    "assert_frame_equal(\n",
    "    trans.output1.toPandas().applymap(str) , \n",
    "    pd.read_csv('../test_output/Output1.tsv',sep='\\t').applymap(str))"
   ]
  },
  {
   "cell_type": "code",
   "execution_count": 26,
   "metadata": {},
   "outputs": [
    {
     "data": {
      "text/html": [
       "<div>\n",
       "<style scoped>\n",
       "    .dataframe tbody tr th:only-of-type {\n",
       "        vertical-align: middle;\n",
       "    }\n",
       "\n",
       "    .dataframe tbody tr th {\n",
       "        vertical-align: top;\n",
       "    }\n",
       "\n",
       "    .dataframe thead th {\n",
       "        text-align: right;\n",
       "    }\n",
       "</style>\n",
       "<table border=\"1\" class=\"dataframe\">\n",
       "  <thead>\n",
       "    <tr style=\"text-align: right;\">\n",
       "      <th></th>\n",
       "      <th>userId</th>\n",
       "      <th>Distinct Songs</th>\n",
       "    </tr>\n",
       "  </thead>\n",
       "  <tbody>\n",
       "    <tr>\n",
       "      <td>0</td>\n",
       "      <td>user_000001</td>\n",
       "      <td>68</td>\n",
       "    </tr>\n",
       "  </tbody>\n",
       "</table>\n",
       "</div>"
      ],
      "text/plain": [
       "        userId  Distinct Songs\n",
       "0  user_000001              68"
      ]
     },
     "execution_count": 26,
     "metadata": {},
     "output_type": "execute_result"
    }
   ],
   "source": [
    "pd.read_csv('../test_output/Output3.tsv',sep='\\t')"
   ]
  },
  {
   "cell_type": "code",
   "execution_count": 40,
   "metadata": {},
   "outputs": [
    {
     "ename": "AssertionError",
     "evalue": "",
     "output_type": "error",
     "traceback": [
      "\u001b[0;31m---------------------------------------------------------------------------\u001b[0m",
      "\u001b[0;31mAssertionError\u001b[0m                            Traceback (most recent call last)",
      "\u001b[0;32m<ipython-input-40-bbfc63f1f2fb>\u001b[0m in \u001b[0;36m<module>\u001b[0;34m\u001b[0m\n\u001b[0;32m----> 1\u001b[0;31m \u001b[0;32massert\u001b[0m\u001b[0;34m(\u001b[0m\u001b[0mspark_ip\u001b[0m\u001b[0;34m.\u001b[0m\u001b[0mdata\u001b[0m\u001b[0;34m.\u001b[0m\u001b[0mcount\u001b[0m\u001b[0;34m(\u001b[0m\u001b[0;34m)\u001b[0m \u001b[0;34m==\u001b[0m\u001b[0;36m0\u001b[0m\u001b[0;34m)\u001b[0m\u001b[0;34m\u001b[0m\u001b[0;34m\u001b[0m\u001b[0m\n\u001b[0m",
      "\u001b[0;31mAssertionError\u001b[0m: "
     ]
    }
   ],
   "source": [
    "assert(spark_ip.data.count() ==0)"
   ]
  },
  {
   "cell_type": "code",
   "execution_count": 4,
   "metadata": {},
   "outputs": [
    {
     "data": {
      "text/html": [
       "\n",
       "            <div>\n",
       "                <p><b>SparkSession - in-memory</b></p>\n",
       "                \n",
       "        <div>\n",
       "            <p><b>SparkContext</b></p>\n",
       "\n",
       "            <p><a href=\"http://10.10.0.151:4041\">Spark UI</a></p>\n",
       "\n",
       "            <dl>\n",
       "              <dt>Version</dt>\n",
       "                <dd><code>v3.0.1</code></dd>\n",
       "              <dt>Master</dt>\n",
       "                <dd><code>local[*]</code></dd>\n",
       "              <dt>AppName</dt>\n",
       "                <dd><code>LastFManalysisTest</code></dd>\n",
       "            </dl>\n",
       "        </div>\n",
       "        \n",
       "            </div>\n",
       "        "
      ],
      "text/plain": [
       "<pyspark.sql.session.SparkSession at 0x10fdaacd0>"
      ]
     },
     "execution_count": 4,
     "metadata": {},
     "output_type": "execute_result"
    }
   ],
   "source": [
    "spark_ip.session.spark"
   ]
  },
  {
   "cell_type": "code",
   "execution_count": 13,
   "metadata": {},
   "outputs": [
    {
     "data": {
      "text/plain": [
       "'../lastfm-dataset-1K/userid-timestamp-artid-artname-traid-traname.tsv'"
      ]
     },
     "execution_count": 13,
     "metadata": {},
     "output_type": "execute_result"
    }
   ],
   "source": [
    "spark_ip.input_location"
   ]
  },
  {
   "cell_type": "code",
   "execution_count": 19,
   "metadata": {},
   "outputs": [
    {
     "name": "stdout",
     "output_type": "stream",
     "text": [
      "+-----------+-------------------+--------------------+---------------+--------------------+--------------------+\n",
      "|     userId|          timestamp|               artId|        artName|               traid|            SongName|\n",
      "+-----------+-------------------+--------------------+---------------+--------------------+--------------------+\n",
      "|     userId|               null|               artId|        artName|               traid|            SongName|\n",
      "|user_000001|2009-05-04 21:54:10|a7f7df4a-77d8-4f1...|       坂本龍一|                null|Composition 0919 ...|\n",
      "|user_000001|2009-05-04 21:52:04|a7f7df4a-77d8-4f1...|       坂本龍一|                null|Mc2 (Live_2009_4_15)|\n",
      "|user_000001|2009-05-04 21:42:52|a7f7df4a-77d8-4f1...|       坂本龍一|                null|Hibari (Live_2009...|\n",
      "|user_000001|2009-05-04 21:42:11|a7f7df4a-77d8-4f1...|       坂本龍一|                null|Mc1 (Live_2009_4_15)|\n",
      "|user_000001|2009-05-04 21:38:31|a7f7df4a-77d8-4f1...|       坂本龍一|                null|To Stanford (Live...|\n",
      "|user_000001|2009-05-04 21:33:28|a7f7df4a-77d8-4f1...|       坂本龍一|                null|Improvisation (Li...|\n",
      "|user_000001|2009-05-04 21:23:45|a7f7df4a-77d8-4f1...|       坂本龍一|                null|Glacier (Live_200...|\n",
      "|user_000001|2009-05-04 21:19:22|a7f7df4a-77d8-4f1...|       坂本龍一|                null|Parolibre (Live_2...|\n",
      "|user_000001|2009-05-04 21:13:38|a7f7df4a-77d8-4f1...|       坂本龍一|                null|Bibo No Aozora (L...|\n",
      "|user_000001|2009-05-04 21:06:09|a7f7df4a-77d8-4f1...|       坂本龍一|f7c1f8f8-b935-45e...|The Last Emperor ...|\n",
      "|user_000001|2009-05-04 21:00:48|a7f7df4a-77d8-4f1...|       坂本龍一|                null|Happyend (Live_20...|\n",
      "|user_000001|2009-05-04 20:55:34|a7f7df4a-77d8-4f1...|       坂本龍一|475d4e50-cebb-4cd...|Tibetan Dance (Ve...|\n",
      "|user_000001|2009-05-04 20:51:26|a7f7df4a-77d8-4f1...|       坂本龍一|                null|Behind The Mask (...|\n",
      "|user_000001|2009-05-03 23:48:25|ba2f4f3b-0293-4bc...|     Underworld|dc394163-2b78-4b5...|Boy, Boy, Boy (Sw...|\n",
      "|user_000001|2009-05-03 23:37:56|ba2f4f3b-0293-4bc...|     Underworld|340d9a0b-9a43-409...|Crocodile (Innerv...|\n",
      "|user_000001|2009-05-03 23:14:53|a16e47f5-aa54-47f...|Ennio Morricone|0b04407b-f517-4e0...|Ninna Nanna In Bl...|\n",
      "|user_000001|2009-05-03 23:10:18|463a94f1-2713-40b...|        Minus 8|4e78efc4-e545-47a...|      Elysian Fields|\n",
      "|user_000001|2009-05-03 23:04:31|ad0811ea-e213-451...|      Beanfield|fb51d2c4-cc69-412...|  Planetary Deadlock|\n",
      "|user_000001|2009-05-03 22:56:25|309e2dfc-678e-4d0...|       Dj Linus|4277434f-e3c2-41a...|Good Morning Love...|\n",
      "+-----------+-------------------+--------------------+---------------+--------------------+--------------------+\n",
      "only showing top 20 rows\n",
      "\n"
     ]
    }
   ],
   "source": [
    "spark_ip.data.show()"
   ]
  },
  {
   "cell_type": "code",
   "execution_count": 4,
   "metadata": {},
   "outputs": [],
   "source": [
    "spark_ip = LoadData( nameofApp , input_location = '../test_output/new_try.tsv')\n",
    "spark_ip.read_data()\n",
    "# spark_ip.data = spark_ip.data.drop('_c0')\n",
    "\n",
    "spark_op2 = LoadData( nameofApp, input_location = '../test_output/Output2.csv' )\n",
    "spark_op2.read_data()\n",
    "spark_op2.data = spark_op2.data.drop('_c0')\n",
    "\n",
    "\n",
    "trans = Transform(spark_ip.data)\n",
    "trans.transform_q2()\n",
    "trans.transform_q1()\n",
    "trans.transform_q3()"
   ]
  },
  {
   "cell_type": "code",
   "execution_count": 5,
   "metadata": {},
   "outputs": [
    {
     "data": {
      "text/plain": [
       "[('userId', 'string'),\n",
       " ('timestamp', 'timestamp'),\n",
       " ('artId', 'string'),\n",
       " ('artName', 'string'),\n",
       " ('traid', 'string'),\n",
       " ('SongName', 'string')]"
      ]
     },
     "execution_count": 5,
     "metadata": {},
     "output_type": "execute_result"
    }
   ],
   "source": [
    "spark_ip.data."
   ]
  },
  {
   "cell_type": "code",
   "execution_count": 6,
   "metadata": {},
   "outputs": [
    {
     "name": "stdout",
     "output_type": "stream",
     "text": [
      "+-----------+-------------------+--------------------+---------------+--------------------+--------------------+\n",
      "|     userId|          timestamp|               artId|        artName|               traid|            SongName|\n",
      "+-----------+-------------------+--------------------+---------------+--------------------+--------------------+\n",
      "|user_000001|2009-05-04 21:54:10|a7f7df4a-77d8-4f1...|       坂本龍一|                null|Composition 0919 ...|\n",
      "|user_000001|2009-05-04 21:52:04|a7f7df4a-77d8-4f1...|       坂本龍一|                null|Mc2 (Live_2009_4_15)|\n",
      "|user_000001|2009-05-04 21:42:52|a7f7df4a-77d8-4f1...|       坂本龍一|                null|Hibari (Live_2009...|\n",
      "|user_000001|2009-05-04 21:42:11|a7f7df4a-77d8-4f1...|       坂本龍一|                null|Mc1 (Live_2009_4_15)|\n",
      "|user_000001|2009-05-04 21:38:31|a7f7df4a-77d8-4f1...|       坂本龍一|                null|To Stanford (Live...|\n",
      "|user_000001|2009-05-04 21:33:28|a7f7df4a-77d8-4f1...|       坂本龍一|                null|Improvisation (Li...|\n",
      "|user_000001|2009-05-04 21:23:45|a7f7df4a-77d8-4f1...|       坂本龍一|                null|Glacier (Live_200...|\n",
      "|user_000001|2009-05-04 21:19:22|a7f7df4a-77d8-4f1...|       坂本龍一|                null|Parolibre (Live_2...|\n",
      "|user_000001|2009-05-04 21:13:38|a7f7df4a-77d8-4f1...|       坂本龍一|                null|Bibo No Aozora (L...|\n",
      "|user_000001|2009-05-04 21:06:09|a7f7df4a-77d8-4f1...|       坂本龍一|f7c1f8f8-b935-45e...|The Last Emperor ...|\n",
      "|user_000001|2009-05-04 21:00:48|a7f7df4a-77d8-4f1...|       坂本龍一|                null|Happyend (Live_20...|\n",
      "|user_000001|2009-05-04 20:55:34|a7f7df4a-77d8-4f1...|       坂本龍一|475d4e50-cebb-4cd...|Tibetan Dance (Ve...|\n",
      "|user_000001|2009-05-04 20:51:26|a7f7df4a-77d8-4f1...|       坂本龍一|                null|Behind The Mask (...|\n",
      "|user_000001|2009-05-03 23:48:25|ba2f4f3b-0293-4bc...|     Underworld|dc394163-2b78-4b5...|Boy, Boy, Boy (Sw...|\n",
      "|user_000001|2009-05-03 23:37:56|ba2f4f3b-0293-4bc...|     Underworld|340d9a0b-9a43-409...|Crocodile (Innerv...|\n",
      "|user_000001|2009-05-03 23:14:53|a16e47f5-aa54-47f...|Ennio Morricone|0b04407b-f517-4e0...|Ninna Nanna In Bl...|\n",
      "|user_000001|2009-05-03 23:10:18|463a94f1-2713-40b...|        Minus 8|4e78efc4-e545-47a...|      Elysian Fields|\n",
      "|user_000001|2009-05-03 23:04:31|ad0811ea-e213-451...|      Beanfield|fb51d2c4-cc69-412...|  Planetary Deadlock|\n",
      "|user_000001|2009-05-03 22:56:25|309e2dfc-678e-4d0...|       Dj Linus|4277434f-e3c2-41a...|Good Morning Love...|\n",
      "|user_000001|2009-05-03 22:50:51|6f3d4a7b-45b2-4c0...|      Alif Tree|1151b040-8022-496...|      Deadly Species|\n",
      "+-----------+-------------------+--------------------+---------------+--------------------+--------------------+\n",
      "only showing top 20 rows\n",
      "\n"
     ]
    }
   ],
   "source": [
    "spark_ip.data.show()"
   ]
  },
  {
   "cell_type": "code",
   "execution_count": 9,
   "metadata": {},
   "outputs": [
    {
     "data": {
      "text/plain": [
       "'/Users/kazi.rahman/Desktop/pyspark_learning/spark_vscodechange/jobs'"
      ]
     },
     "execution_count": 9,
     "metadata": {},
     "output_type": "execute_result"
    }
   ],
   "source": [
    "pwd../test_output/"
   ]
  },
  {
   "cell_type": "code",
   "execution_count": 25,
   "metadata": {},
   "outputs": [
    {
     "data": {
      "text/html": [
       "<div>\n",
       "<style scoped>\n",
       "    .dataframe tbody tr th:only-of-type {\n",
       "        vertical-align: middle;\n",
       "    }\n",
       "\n",
       "    .dataframe tbody tr th {\n",
       "        vertical-align: top;\n",
       "    }\n",
       "\n",
       "    .dataframe thead th {\n",
       "        text-align: right;\n",
       "    }\n",
       "</style>\n",
       "<table border=\"1\" class=\"dataframe\">\n",
       "  <thead>\n",
       "    <tr style=\"text-align: right;\">\n",
       "      <th></th>\n",
       "      <th>userId</th>\n",
       "      <th>list of Songs</th>\n",
       "      <th>start_session</th>\n",
       "      <th>end_session</th>\n",
       "      <th>total_session_inMins</th>\n",
       "    </tr>\n",
       "  </thead>\n",
       "  <tbody>\n",
       "    <tr>\n",
       "      <td>0</td>\n",
       "      <td>user_000001</td>\n",
       "      <td>[Backspin, Rasta Baby, Simmer Down Jammie, Tak...</td>\n",
       "      <td>2009-05-02 21:00:30</td>\n",
       "      <td>2009-05-02 23:29:50</td>\n",
       "      <td>155.0</td>\n",
       "    </tr>\n",
       "    <tr>\n",
       "      <td>1</td>\n",
       "      <td>user_000001</td>\n",
       "      <td>[Elysian Fields, Three, Seven, Beach Towel, An...</td>\n",
       "      <td>2009-05-03 21:13:25</td>\n",
       "      <td>2009-05-03 23:14:53</td>\n",
       "      <td>133.0</td>\n",
       "    </tr>\n",
       "    <tr>\n",
       "      <td>2</td>\n",
       "      <td>user_000001</td>\n",
       "      <td>[Rasta Baby, Backspin, Headspin, Simmer Down J...</td>\n",
       "      <td>2009-05-01 16:37:58</td>\n",
       "      <td>2009-05-01 18:07:40</td>\n",
       "      <td>90.0</td>\n",
       "    </tr>\n",
       "    <tr>\n",
       "      <td>3</td>\n",
       "      <td>user_000001</td>\n",
       "      <td>[Tibetan Dance (Version), The Last Emperor (Th...</td>\n",
       "      <td>2009-05-04 20:55:34</td>\n",
       "      <td>2009-05-04 21:54:10</td>\n",
       "      <td>63.0</td>\n",
       "    </tr>\n",
       "    <tr>\n",
       "      <td>4</td>\n",
       "      <td>user_000001</td>\n",
       "      <td>[Are We? (Feat. Michelle Amador), The Crush, S...</td>\n",
       "      <td>2009-05-01 19:55:00</td>\n",
       "      <td>2009-05-01 20:18:14</td>\n",
       "      <td>28.0</td>\n",
       "    </tr>\n",
       "    <tr>\n",
       "      <td>5</td>\n",
       "      <td>user_000001</td>\n",
       "      <td>[Animals (Luciano Remix)]</td>\n",
       "      <td>2009-05-01 22:07:16</td>\n",
       "      <td>2009-05-01 22:07:16</td>\n",
       "      <td>12.0</td>\n",
       "    </tr>\n",
       "    <tr>\n",
       "      <td>6</td>\n",
       "      <td>user_000001</td>\n",
       "      <td>[Boy, Boy, Boy (Switch Remix)]</td>\n",
       "      <td>2009-05-03 23:48:25</td>\n",
       "      <td>2009-05-03 23:48:25</td>\n",
       "      <td>10.0</td>\n",
       "    </tr>\n",
       "  </tbody>\n",
       "</table>\n",
       "</div>"
      ],
      "text/plain": [
       "        userId                                      list of Songs  \\\n",
       "0  user_000001  [Backspin, Rasta Baby, Simmer Down Jammie, Tak...   \n",
       "1  user_000001  [Elysian Fields, Three, Seven, Beach Towel, An...   \n",
       "2  user_000001  [Rasta Baby, Backspin, Headspin, Simmer Down J...   \n",
       "3  user_000001  [Tibetan Dance (Version), The Last Emperor (Th...   \n",
       "4  user_000001  [Are We? (Feat. Michelle Amador), The Crush, S...   \n",
       "5  user_000001                          [Animals (Luciano Remix)]   \n",
       "6  user_000001                     [Boy, Boy, Boy (Switch Remix)]   \n",
       "\n",
       "        start_session         end_session  total_session_inMins  \n",
       "0 2009-05-02 21:00:30 2009-05-02 23:29:50                 155.0  \n",
       "1 2009-05-03 21:13:25 2009-05-03 23:14:53                 133.0  \n",
       "2 2009-05-01 16:37:58 2009-05-01 18:07:40                  90.0  \n",
       "3 2009-05-04 20:55:34 2009-05-04 21:54:10                  63.0  \n",
       "4 2009-05-01 19:55:00 2009-05-01 20:18:14                  28.0  \n",
       "5 2009-05-01 22:07:16 2009-05-01 22:07:16                  12.0  \n",
       "6 2009-05-03 23:48:25 2009-05-03 23:48:25                  10.0  "
      ]
     },
     "execution_count": 25,
     "metadata": {},
     "output_type": "execute_result"
    }
   ],
   "source": [
    "trans.output1.toPandas()"
   ]
  },
  {
   "cell_type": "code",
   "execution_count": 26,
   "metadata": {},
   "outputs": [],
   "source": [
    "trans.output3.toPandas().set_index('userId').to_csv('../test_output/Output3.tsv',sep='\\t')\n",
    "trans.output2.toPandas().set_index('artist').to_csv('../test_output/Output2.tsv',sep='\\t')\n",
    "trans.output1.toPandas().set_index('userId').to_csv('../test_output/Output1.tsv',sep='\\t')"
   ]
  },
  {
   "cell_type": "code",
   "execution_count": 19,
   "metadata": {},
   "outputs": [],
   "source": [
    "from pandas.testing import assert_frame_equal"
   ]
  },
  {
   "cell_type": "code",
   "execution_count": 27,
   "metadata": {},
   "outputs": [],
   "source": [
    "assert_frame_equal(trans.output3.toPandas() , pd.read_csv('../test_output/Output3.tsv',sep='\\t'))\n",
    "\n",
    "assert_frame_equal(trans.output2.toPandas() , pd.read_csv('../test_output/Output2.tsv',sep='\\t'))\n",
    "\n",
    "\n",
    "assert_frame_equal(\n",
    "    trans.output1.toPandas().applymap(str) , \n",
    "    pd.read_csv('../test_output/Output1.tsv',sep='\\t').applymap(str))"
   ]
  },
  {
   "cell_type": "code",
   "execution_count": 28,
   "metadata": {},
   "outputs": [],
   "source": [
    "assert_frame_equal(trans.output2.toPandas() , pd.read_csv('../test_output/Output2.tsv',sep='\\t'))"
   ]
  },
  {
   "cell_type": "code",
   "execution_count": 72,
   "metadata": {},
   "outputs": [],
   "source": [
    "assert_frame_equal(\n",
    "    trans.output1.toPandas().applymap(str) , \n",
    "    pd.read_csv('../test_output/Output1.tsv',sep='\\t').applymap(str))"
   ]
  },
  {
   "cell_type": "code",
   "execution_count": 14,
   "metadata": {},
   "outputs": [
    {
     "data": {
      "text/html": [
       "<div>\n",
       "<style scoped>\n",
       "    .dataframe tbody tr th:only-of-type {\n",
       "        vertical-align: middle;\n",
       "    }\n",
       "\n",
       "    .dataframe tbody tr th {\n",
       "        vertical-align: top;\n",
       "    }\n",
       "\n",
       "    .dataframe thead th {\n",
       "        text-align: right;\n",
       "    }\n",
       "</style>\n",
       "<table border=\"1\" class=\"dataframe\">\n",
       "  <thead>\n",
       "    <tr style=\"text-align: right;\">\n",
       "      <th></th>\n",
       "      <th>userId</th>\n",
       "      <th>Distinct Songs</th>\n",
       "    </tr>\n",
       "  </thead>\n",
       "  <tbody>\n",
       "    <tr>\n",
       "      <td>0</td>\n",
       "      <td>user_000001</td>\n",
       "      <td>68</td>\n",
       "    </tr>\n",
       "  </tbody>\n",
       "</table>\n",
       "</div>"
      ],
      "text/plain": [
       "        userId  Distinct Songs\n",
       "0  user_000001              68"
      ]
     },
     "execution_count": 14,
     "metadata": {},
     "output_type": "execute_result"
    }
   ],
   "source": [
    "pd.read_csv('../test_output/Output3.tsv',sep='\\t')"
   ]
  },
  {
   "cell_type": "code",
   "execution_count": 166,
   "metadata": {},
   "outputs": [
    {
     "data": {
      "text/plain": [
       "[('userId', 'string'),\n",
       " ('timestamp', 'string'),\n",
       " ('artId', 'string'),\n",
       " ('artName', 'string'),\n",
       " ('traid', 'string'),\n",
       " ('SongName', 'string')]"
      ]
     },
     "execution_count": 166,
     "metadata": {},
     "output_type": "execute_result"
    }
   ],
   "source": [
    "spark_ip.data.dtypes"
   ]
  },
  {
   "cell_type": "code",
   "execution_count": 122,
   "metadata": {},
   "outputs": [],
   "source": [
    "spark_ip.data.toPandas().drop('_c0',axis=1).set_index('userId').to_csv('./new_try.tsv',index=True,sep='\\t')"
   ]
  },
  {
   "cell_type": "code",
   "execution_count": 6,
   "metadata": {},
   "outputs": [
    {
     "name": "stdout",
     "output_type": "stream",
     "text": [
      "+-------------------+--------------------+---------+\n",
      "|             artist|               title|Frequency|\n",
      "+-------------------+--------------------+---------+\n",
      "|           Marc Mac|            Backspin|        6|\n",
      "|           Marc Mac|            Footwork|        5|\n",
      "|           Marc Mac|              Freeze|        5|\n",
      "|           Marc Mac|         Jazz Flares|        5|\n",
      "|          Minilogue|Animals (Luciano ...|        4|\n",
      "|              Gelka|          Rasta Baby|        4|\n",
      "|      Rocket Empire|  Simmer Down Jammie|        3|\n",
      "|          Lisa Shaw|Inside My Love (E...|        3|\n",
      "|     Samantha James|           Amber Sky|        3|\n",
      "|              4Hero|       Morning Child|        2|\n",
      "|         Pc Synergy|        Ready 2 Wear|        2|\n",
      "|   The Young Lovers|How Lonely Does I...|        1|\n",
      "|           坂本龍一|Happyend (Live_20...|        1|\n",
      "|Bombay Bicycle Club|You Already Know ...|        1|\n",
      "|            Minus 8|         Cold Fusion|        1|\n",
      "|              4Hero|Play With The Cha...|        1|\n",
      "|              Clark|       Growls Garden|        1|\n",
      "|          Masomenos|                 Six|        1|\n",
      "|              4Hero|             Give In|        1|\n",
      "|              4Hero|       The Awakening|        1|\n",
      "+-------------------+--------------------+---------+\n",
      "only showing top 20 rows\n",
      "\n"
     ]
    }
   ],
   "source": [
    "spark_op2.data.show()"
   ]
  },
  {
   "cell_type": "code",
   "execution_count": 7,
   "metadata": {},
   "outputs": [
    {
     "name": "stdout",
     "output_type": "stream",
     "text": [
      "+-------------------+--------------------+---------+\n",
      "|             artist|               title|Frequency|\n",
      "+-------------------+--------------------+---------+\n",
      "|           Marc Mac|            Backspin|        6|\n",
      "|           Marc Mac|         Jazz Flares|        5|\n",
      "|           Marc Mac|            Footwork|        5|\n",
      "|           Marc Mac|              Freeze|        5|\n",
      "|          Minilogue|Animals (Luciano ...|        4|\n",
      "|              Gelka|          Rasta Baby|        4|\n",
      "|      Rocket Empire|  Simmer Down Jammie|        3|\n",
      "|          Lisa Shaw|Inside My Love (E...|        3|\n",
      "|     Samantha James|           Amber Sky|        3|\n",
      "|         Pc Synergy|        Ready 2 Wear|        2|\n",
      "|              4Hero|       Morning Child|        2|\n",
      "|           坂本龍一|Mc1 (Live_2009_4_15)|        1|\n",
      "|              4Hero|Play With The Cha...|        1|\n",
      "|Bombay Bicycle Club|You Already Know ...|        1|\n",
      "|           坂本龍一|Mc2 (Live_2009_4_15)|        1|\n",
      "|            Minus 8|      Elysian Fields|        1|\n",
      "|          Ivan Enot|Grooves Of The Heart|        1|\n",
      "|              4Hero|         Look Inside|        1|\n",
      "|              Clark|       Growls Garden|        1|\n",
      "|          Minilogue|Animals (Tolga Fi...|        1|\n",
      "+-------------------+--------------------+---------+\n",
      "only showing top 20 rows\n",
      "\n"
     ]
    }
   ],
   "source": [
    "trans.output2.show()"
   ]
  },
  {
   "cell_type": "code",
   "execution_count": 17,
   "metadata": {},
   "outputs": [
    {
     "data": {
      "text/plain": [
       "False"
      ]
     },
     "execution_count": 17,
     "metadata": {},
     "output_type": "execute_result"
    }
   ],
   "source": [
    "trans.output2.withColumn('Frequency',F.col('Frequency').cast(IntegerType())).collect() == spark_op2.data.collect()"
   ]
  },
  {
   "cell_type": "code",
   "execution_count": 15,
   "metadata": {},
   "outputs": [
    {
     "data": {
      "text/plain": [
       "[Row(artist='Marc Mac', title='Backspin', Frequency=6),\n",
       " Row(artist='Marc Mac', title='Footwork', Frequency=5),\n",
       " Row(artist='Marc Mac', title='Freeze', Frequency=5),\n",
       " Row(artist='Marc Mac', title='Jazz Flares', Frequency=5),\n",
       " Row(artist='Minilogue', title='Animals (Luciano Remix)', Frequency=4),\n",
       " Row(artist='Gelka', title='Rasta Baby', Frequency=4),\n",
       " Row(artist='Rocket Empire', title='Simmer Down Jammie', Frequency=3),\n",
       " Row(artist='Lisa Shaw', title='Inside My Love (Extended Mix)', Frequency=3),\n",
       " Row(artist='Samantha James', title='Amber Sky', Frequency=3),\n",
       " Row(artist='Pc Synergy', title='Ready 2 Wear', Frequency=2),\n",
       " Row(artist='4Hero', title='Morning Child', Frequency=2),\n",
       " Row(artist='The Young Lovers', title='How Lonely Does It Get', Frequency=1),\n",
       " Row(artist='坂本龍一', title='Happyend (Live_2009_4_15)', Frequency=1),\n",
       " Row(artist='4Hero', title='Play With The Changes', Frequency=1),\n",
       " Row(artist='Bombay Bicycle Club', title='You Already Know (Feat. Kathryn Williams)', Frequency=1),\n",
       " Row(artist='Masomenos', title='Six', Frequency=1),\n",
       " Row(artist='Minus 8', title='Cold Fusion', Frequency=1),\n",
       " Row(artist='4Hero', title='The Awakening', Frequency=1),\n",
       " Row(artist='坂本龍一', title='Mc2 (Live_2009_4_15)', Frequency=1),\n",
       " Row(artist='Clark', title='Growls Garden', Frequency=1),\n",
       " Row(artist='Minilogue', title='Animals (Tolga Fidan Remix)', Frequency=1),\n",
       " Row(artist='Ivan Enot', title='Grooves Of The Heart', Frequency=1),\n",
       " Row(artist='Minus 8', title='Elysian Fields', Frequency=1),\n",
       " Row(artist='Masomenos', title='Two', Frequency=1),\n",
       " Row(artist='4Hero', title='Give In', Frequency=1),\n",
       " Row(artist='The Young Lovers', title='You Make Me Dizzy', Frequency=1),\n",
       " Row(artist='坂本龍一', title='Mc1 (Live_2009_4_15)', Frequency=1),\n",
       " Row(artist='坂本龍一', title='Hibari (Live_2009_4_15)', Frequency=1),\n",
       " Row(artist='4Hero', title='Look Inside', Frequency=1),\n",
       " Row(artist='Rithma', title='Map Point Baby (The Hue Remix)', Frequency=1),\n",
       " Row(artist='坂本龍一', title='Tibetan Dance (Version)', Frequency=1),\n",
       " Row(artist='Beanfield', title='Planetary Deadlock', Frequency=1),\n",
       " Row(artist='Karma', title='Are We? (Feat. Michelle Amador)', Frequency=1),\n",
       " Row(artist='Masomenos', title='Five', Frequency=1),\n",
       " Row(artist='Marsmobil', title='Sovatex 2055', Frequency=1),\n",
       " Row(artist='Masomenos', title='Seven', Frequency=1),\n",
       " Row(artist='坂本龍一', title='Improvisation (Live_2009_4_15)', Frequency=1),\n",
       " Row(artist='坂本龍一', title='Parolibre (Live_2009_4_15)', Frequency=1),\n",
       " Row(artist='4Hero', title='Take My Time', Frequency=1),\n",
       " Row(artist='Losoul', title='The Crush', Frequency=1),\n",
       " Row(artist='Deep Dish', title='Fuck Me Im Famous (Pacha Ibiza)-09-28-2007', Frequency=1),\n",
       " Row(artist='坂本龍一', title='To Stanford (Live_2009_4_15)', Frequency=1),\n",
       " Row(artist='Woolfy Vs. Projections', title='Carry On', Frequency=1),\n",
       " Row(artist='坂本龍一', title='The Last Emperor (Theme)', Frequency=1),\n",
       " Row(artist='Masomenos', title='Eight', Frequency=1),\n",
       " Row(artist='Rithma', title='(The Only) Dark In The Light (Steve Sampling Mix)', Frequency=1),\n",
       " Row(artist='Dj Linus', title='Good Morning Love Coffee Is Ready', Frequency=1),\n",
       " Row(artist='4Hero', title='Something In The Way', Frequency=1),\n",
       " Row(artist=\"J. Boogie'S Dubtronic Science\", title='Leave It All Behind (Feat. The Rebirth & Aima The Dreamer)', Frequency=1),\n",
       " Row(artist='Wei-Chi', title='Clouds', Frequency=1),\n",
       " Row(artist='4Hero', title='Sink Or Swim', Frequency=1),\n",
       " Row(artist='Ennio Morricone', title='Ninna Nanna In Blu (Raw Deal Remix)', Frequency=1),\n",
       " Row(artist='Alif Tree', title='Deadly Species', Frequency=1),\n",
       " Row(artist='Masomenos', title='Four', Frequency=1),\n",
       " Row(artist='Masomenos', title='Three', Frequency=1),\n",
       " Row(artist='Karma', title='Beach Towel', Frequency=1),\n",
       " Row(artist='Marc Mac', title='Headspin', Frequency=1),\n",
       " Row(artist='坂本龍一', title='Behind The Mask (Live_2009_4_15)', Frequency=1),\n",
       " Row(artist='4Hero', title='Stoke Up The Fire', Frequency=1),\n",
       " Row(artist='坂本龍一', title='Composition 0919 (Live_2009_4_15)', Frequency=1),\n",
       " Row(artist='Home & Garden', title='Someday (Feat. Lisa Shaw)', Frequency=1),\n",
       " Row(artist='Underworld', title='Boy, Boy, Boy (Switch Remix)', Frequency=1),\n",
       " Row(artist='Underworld', title='Crocodile (Innervisions Orchestra Mix)', Frequency=1),\n",
       " Row(artist='Nicken', title='Lifeb', Frequency=1),\n",
       " Row(artist='坂本龍一', title='Glacier (Live_2009_4_15)', Frequency=1),\n",
       " Row(artist='Kissey Asplund', title='Move Me [Feat. Soliloquy]', Frequency=1),\n",
       " Row(artist='Impossible Beings', title='Dois Pólos', Frequency=1),\n",
       " Row(artist='Minilogue', title=\"Animals (Beat Pharmacy ' Into The Wild Dub Remix)\", Frequency=1),\n",
       " Row(artist='坂本龍一', title='Bibo No Aozora (Live_2009_4_15)', Frequency=1)]"
      ]
     },
     "execution_count": 15,
     "metadata": {},
     "output_type": "execute_result"
    }
   ],
   "source": [
    "trans.output2.withColumn('Frequency',F.col('Frequency').cast(IntegerType())).collect()"
   ]
  },
  {
   "cell_type": "code",
   "execution_count": 23,
   "metadata": {},
   "outputs": [],
   "source": [
    "dfop = spark_op2.data.toPandas()"
   ]
  },
  {
   "cell_type": "code",
   "execution_count": 24,
   "metadata": {},
   "outputs": [],
   "source": [
    "dfop1 = trans.output2.toPandas()"
   ]
  },
  {
   "cell_type": "code",
   "execution_count": 23,
   "metadata": {},
   "outputs": [
    {
     "data": {
      "text/plain": [
       "(69, 3)"
      ]
     },
     "execution_count": 23,
     "metadata": {},
     "output_type": "execute_result"
    }
   ],
   "source": [
    "spark_op2.data.toPandas().shape"
   ]
  },
  {
   "cell_type": "code",
   "execution_count": 11,
   "metadata": {},
   "outputs": [
    {
     "data": {
      "text/html": [
       "<div>\n",
       "<style scoped>\n",
       "    .dataframe tbody tr th:only-of-type {\n",
       "        vertical-align: middle;\n",
       "    }\n",
       "\n",
       "    .dataframe tbody tr th {\n",
       "        vertical-align: top;\n",
       "    }\n",
       "\n",
       "    .dataframe thead th {\n",
       "        text-align: right;\n",
       "    }\n",
       "</style>\n",
       "<table border=\"1\" class=\"dataframe\">\n",
       "  <thead>\n",
       "    <tr style=\"text-align: right;\">\n",
       "      <th></th>\n",
       "      <th>artist</th>\n",
       "      <th>title</th>\n",
       "      <th>Frequency</th>\n",
       "    </tr>\n",
       "  </thead>\n",
       "  <tbody>\n",
       "    <tr>\n",
       "      <td>0</td>\n",
       "      <td>Marc Mac</td>\n",
       "      <td>Backspin</td>\n",
       "      <td>6</td>\n",
       "    </tr>\n",
       "    <tr>\n",
       "      <td>1</td>\n",
       "      <td>Marc Mac</td>\n",
       "      <td>Footwork</td>\n",
       "      <td>5</td>\n",
       "    </tr>\n",
       "    <tr>\n",
       "      <td>2</td>\n",
       "      <td>Marc Mac</td>\n",
       "      <td>Freeze</td>\n",
       "      <td>5</td>\n",
       "    </tr>\n",
       "    <tr>\n",
       "      <td>3</td>\n",
       "      <td>Marc Mac</td>\n",
       "      <td>Jazz Flares</td>\n",
       "      <td>5</td>\n",
       "    </tr>\n",
       "    <tr>\n",
       "      <td>4</td>\n",
       "      <td>Minilogue</td>\n",
       "      <td>Animals (Luciano Remix)</td>\n",
       "      <td>4</td>\n",
       "    </tr>\n",
       "  </tbody>\n",
       "</table>\n",
       "</div>"
      ],
      "text/plain": [
       "      artist                    title  Frequency\n",
       "0   Marc Mac                 Backspin          6\n",
       "1   Marc Mac                 Footwork          5\n",
       "2   Marc Mac                   Freeze          5\n",
       "3   Marc Mac              Jazz Flares          5\n",
       "4  Minilogue  Animals (Luciano Remix)          4"
      ]
     },
     "execution_count": 11,
     "metadata": {},
     "output_type": "execute_result"
    }
   ],
   "source": [
    "dfop.head()"
   ]
  },
  {
   "cell_type": "code",
   "execution_count": 12,
   "metadata": {},
   "outputs": [
    {
     "data": {
      "text/html": [
       "<div>\n",
       "<style scoped>\n",
       "    .dataframe tbody tr th:only-of-type {\n",
       "        vertical-align: middle;\n",
       "    }\n",
       "\n",
       "    .dataframe tbody tr th {\n",
       "        vertical-align: top;\n",
       "    }\n",
       "\n",
       "    .dataframe thead th {\n",
       "        text-align: right;\n",
       "    }\n",
       "</style>\n",
       "<table border=\"1\" class=\"dataframe\">\n",
       "  <thead>\n",
       "    <tr style=\"text-align: right;\">\n",
       "      <th></th>\n",
       "      <th>artist</th>\n",
       "      <th>title</th>\n",
       "      <th>Frequency</th>\n",
       "    </tr>\n",
       "  </thead>\n",
       "  <tbody>\n",
       "    <tr>\n",
       "      <td>0</td>\n",
       "      <td>True</td>\n",
       "      <td>True</td>\n",
       "      <td>True</td>\n",
       "    </tr>\n",
       "    <tr>\n",
       "      <td>1</td>\n",
       "      <td>True</td>\n",
       "      <td>True</td>\n",
       "      <td>True</td>\n",
       "    </tr>\n",
       "    <tr>\n",
       "      <td>2</td>\n",
       "      <td>True</td>\n",
       "      <td>True</td>\n",
       "      <td>True</td>\n",
       "    </tr>\n",
       "    <tr>\n",
       "      <td>3</td>\n",
       "      <td>True</td>\n",
       "      <td>True</td>\n",
       "      <td>True</td>\n",
       "    </tr>\n",
       "    <tr>\n",
       "      <td>4</td>\n",
       "      <td>True</td>\n",
       "      <td>True</td>\n",
       "      <td>True</td>\n",
       "    </tr>\n",
       "    <tr>\n",
       "      <td>...</td>\n",
       "      <td>...</td>\n",
       "      <td>...</td>\n",
       "      <td>...</td>\n",
       "    </tr>\n",
       "    <tr>\n",
       "      <td>64</td>\n",
       "      <td>False</td>\n",
       "      <td>False</td>\n",
       "      <td>True</td>\n",
       "    </tr>\n",
       "    <tr>\n",
       "      <td>65</td>\n",
       "      <td>False</td>\n",
       "      <td>False</td>\n",
       "      <td>True</td>\n",
       "    </tr>\n",
       "    <tr>\n",
       "      <td>66</td>\n",
       "      <td>True</td>\n",
       "      <td>True</td>\n",
       "      <td>True</td>\n",
       "    </tr>\n",
       "    <tr>\n",
       "      <td>67</td>\n",
       "      <td>True</td>\n",
       "      <td>True</td>\n",
       "      <td>True</td>\n",
       "    </tr>\n",
       "    <tr>\n",
       "      <td>68</td>\n",
       "      <td>True</td>\n",
       "      <td>True</td>\n",
       "      <td>True</td>\n",
       "    </tr>\n",
       "  </tbody>\n",
       "</table>\n",
       "<p>69 rows × 3 columns</p>\n",
       "</div>"
      ],
      "text/plain": [
       "    artist  title  Frequency\n",
       "0     True   True       True\n",
       "1     True   True       True\n",
       "2     True   True       True\n",
       "3     True   True       True\n",
       "4     True   True       True\n",
       "..     ...    ...        ...\n",
       "64   False  False       True\n",
       "65   False  False       True\n",
       "66    True   True       True\n",
       "67    True   True       True\n",
       "68    True   True       True\n",
       "\n",
       "[69 rows x 3 columns]"
      ]
     },
     "execution_count": 12,
     "metadata": {},
     "output_type": "execute_result"
    }
   ],
   "source": [
    "dfop == dfop1"
   ]
  },
  {
   "cell_type": "code",
   "execution_count": 25,
   "metadata": {},
   "outputs": [
    {
     "data": {
      "text/html": [
       "<div>\n",
       "<style scoped>\n",
       "    .dataframe tbody tr th:only-of-type {\n",
       "        vertical-align: middle;\n",
       "    }\n",
       "\n",
       "    .dataframe tbody tr th {\n",
       "        vertical-align: top;\n",
       "    }\n",
       "\n",
       "    .dataframe thead th {\n",
       "        text-align: right;\n",
       "    }\n",
       "</style>\n",
       "<table border=\"1\" class=\"dataframe\">\n",
       "  <thead>\n",
       "    <tr style=\"text-align: right;\">\n",
       "      <th></th>\n",
       "      <th>artist</th>\n",
       "      <th>title</th>\n",
       "      <th>Frequency</th>\n",
       "    </tr>\n",
       "  </thead>\n",
       "  <tbody>\n",
       "    <tr>\n",
       "      <td>0</td>\n",
       "      <td>NaN</td>\n",
       "      <td>NaN</td>\n",
       "      <td>NaN</td>\n",
       "    </tr>\n",
       "    <tr>\n",
       "      <td>1</td>\n",
       "      <td>NaN</td>\n",
       "      <td>NaN</td>\n",
       "      <td>NaN</td>\n",
       "    </tr>\n",
       "    <tr>\n",
       "      <td>2</td>\n",
       "      <td>NaN</td>\n",
       "      <td>NaN</td>\n",
       "      <td>NaN</td>\n",
       "    </tr>\n",
       "    <tr>\n",
       "      <td>3</td>\n",
       "      <td>NaN</td>\n",
       "      <td>NaN</td>\n",
       "      <td>NaN</td>\n",
       "    </tr>\n",
       "    <tr>\n",
       "      <td>4</td>\n",
       "      <td>NaN</td>\n",
       "      <td>NaN</td>\n",
       "      <td>NaN</td>\n",
       "    </tr>\n",
       "    <tr>\n",
       "      <td>...</td>\n",
       "      <td>...</td>\n",
       "      <td>...</td>\n",
       "      <td>...</td>\n",
       "    </tr>\n",
       "    <tr>\n",
       "      <td>64</td>\n",
       "      <td>Nicken</td>\n",
       "      <td>Lifeb</td>\n",
       "      <td>NaN</td>\n",
       "    </tr>\n",
       "    <tr>\n",
       "      <td>65</td>\n",
       "      <td>坂本龍一</td>\n",
       "      <td>Glacier (Live_2009_4_15)</td>\n",
       "      <td>NaN</td>\n",
       "    </tr>\n",
       "    <tr>\n",
       "      <td>66</td>\n",
       "      <td>NaN</td>\n",
       "      <td>NaN</td>\n",
       "      <td>NaN</td>\n",
       "    </tr>\n",
       "    <tr>\n",
       "      <td>67</td>\n",
       "      <td>NaN</td>\n",
       "      <td>NaN</td>\n",
       "      <td>NaN</td>\n",
       "    </tr>\n",
       "    <tr>\n",
       "      <td>68</td>\n",
       "      <td>NaN</td>\n",
       "      <td>NaN</td>\n",
       "      <td>NaN</td>\n",
       "    </tr>\n",
       "  </tbody>\n",
       "</table>\n",
       "<p>69 rows × 3 columns</p>\n",
       "</div>"
      ],
      "text/plain": [
       "    artist                     title  Frequency\n",
       "0      NaN                       NaN        NaN\n",
       "1      NaN                       NaN        NaN\n",
       "2      NaN                       NaN        NaN\n",
       "3      NaN                       NaN        NaN\n",
       "4      NaN                       NaN        NaN\n",
       "..     ...                       ...        ...\n",
       "64  Nicken                     Lifeb        NaN\n",
       "65    坂本龍一  Glacier (Live_2009_4_15)        NaN\n",
       "66     NaN                       NaN        NaN\n",
       "67     NaN                       NaN        NaN\n",
       "68     NaN                       NaN        NaN\n",
       "\n",
       "[69 rows x 3 columns]"
      ]
     },
     "execution_count": 25,
     "metadata": {},
     "output_type": "execute_result"
    }
   ],
   "source": [
    "dfop[~(dfop == dfop1)]"
   ]
  },
  {
   "cell_type": "code",
   "execution_count": 26,
   "metadata": {},
   "outputs": [
    {
     "data": {
      "text/html": [
       "<div>\n",
       "<style scoped>\n",
       "    .dataframe tbody tr th:only-of-type {\n",
       "        vertical-align: middle;\n",
       "    }\n",
       "\n",
       "    .dataframe tbody tr th {\n",
       "        vertical-align: top;\n",
       "    }\n",
       "\n",
       "    .dataframe thead th {\n",
       "        text-align: right;\n",
       "    }\n",
       "</style>\n",
       "<table border=\"1\" class=\"dataframe\">\n",
       "  <thead>\n",
       "    <tr style=\"text-align: right;\">\n",
       "      <th></th>\n",
       "      <th>artist</th>\n",
       "      <th>title</th>\n",
       "      <th>Frequency</th>\n",
       "    </tr>\n",
       "  </thead>\n",
       "  <tbody>\n",
       "    <tr>\n",
       "      <td>0</td>\n",
       "      <td>NaN</td>\n",
       "      <td>NaN</td>\n",
       "      <td>NaN</td>\n",
       "    </tr>\n",
       "    <tr>\n",
       "      <td>1</td>\n",
       "      <td>NaN</td>\n",
       "      <td>NaN</td>\n",
       "      <td>NaN</td>\n",
       "    </tr>\n",
       "    <tr>\n",
       "      <td>2</td>\n",
       "      <td>NaN</td>\n",
       "      <td>NaN</td>\n",
       "      <td>NaN</td>\n",
       "    </tr>\n",
       "    <tr>\n",
       "      <td>3</td>\n",
       "      <td>NaN</td>\n",
       "      <td>NaN</td>\n",
       "      <td>NaN</td>\n",
       "    </tr>\n",
       "    <tr>\n",
       "      <td>4</td>\n",
       "      <td>NaN</td>\n",
       "      <td>NaN</td>\n",
       "      <td>NaN</td>\n",
       "    </tr>\n",
       "    <tr>\n",
       "      <td>...</td>\n",
       "      <td>...</td>\n",
       "      <td>...</td>\n",
       "      <td>...</td>\n",
       "    </tr>\n",
       "    <tr>\n",
       "      <td>64</td>\n",
       "      <td>坂本龍一</td>\n",
       "      <td>Glacier (Live_2009_4_15)</td>\n",
       "      <td>NaN</td>\n",
       "    </tr>\n",
       "    <tr>\n",
       "      <td>65</td>\n",
       "      <td>Kissey Asplund</td>\n",
       "      <td>Move Me [Feat. Soliloquy]</td>\n",
       "      <td>NaN</td>\n",
       "    </tr>\n",
       "    <tr>\n",
       "      <td>66</td>\n",
       "      <td>NaN</td>\n",
       "      <td>NaN</td>\n",
       "      <td>NaN</td>\n",
       "    </tr>\n",
       "    <tr>\n",
       "      <td>67</td>\n",
       "      <td>NaN</td>\n",
       "      <td>NaN</td>\n",
       "      <td>NaN</td>\n",
       "    </tr>\n",
       "    <tr>\n",
       "      <td>68</td>\n",
       "      <td>NaN</td>\n",
       "      <td>NaN</td>\n",
       "      <td>NaN</td>\n",
       "    </tr>\n",
       "  </tbody>\n",
       "</table>\n",
       "<p>69 rows × 3 columns</p>\n",
       "</div>"
      ],
      "text/plain": [
       "            artist                      title  Frequency\n",
       "0              NaN                        NaN        NaN\n",
       "1              NaN                        NaN        NaN\n",
       "2              NaN                        NaN        NaN\n",
       "3              NaN                        NaN        NaN\n",
       "4              NaN                        NaN        NaN\n",
       "..             ...                        ...        ...\n",
       "64            坂本龍一   Glacier (Live_2009_4_15)        NaN\n",
       "65  Kissey Asplund  Move Me [Feat. Soliloquy]        NaN\n",
       "66             NaN                        NaN        NaN\n",
       "67             NaN                        NaN        NaN\n",
       "68             NaN                        NaN        NaN\n",
       "\n",
       "[69 rows x 3 columns]"
      ]
     },
     "execution_count": 26,
     "metadata": {},
     "output_type": "execute_result"
    }
   ],
   "source": [
    "dfop1[~(dfop == dfop1)]"
   ]
  },
  {
   "cell_type": "code",
   "execution_count": 1,
   "metadata": {},
   "outputs": [],
   "source": [
    "#!/usr/bin/env python\n",
    "\n",
    "\n",
    "############# HouseKeeping #####################\n",
    "\n",
    "from test_etl_config import *\n",
    "\n",
    "from load_data import LoadData\n",
    "from transform import Transform\n",
    "from pandas.testing import assert_frame_equal\n",
    "import pandas as pd\n",
    "\n",
    "import os\n",
    "import shutil\n",
    "\n",
    "\n",
    "class UnitTest():\n",
    "\n",
    "    def __init__(self,nameofApp) :\n",
    "\n",
    "        self.sparkSess = None\n",
    "        self.trans = None\n",
    "        self.nameofApp = nameofApp\n",
    "        self.success = 0\n",
    "        self.failure = 0\n",
    "\n",
    "\n",
    "    def test_loadData(self):\n",
    "\n",
    "        self.sparkSess = LoadData( self.nameofApp , input_location = config['input_location'] )\n",
    "\n",
    "        self.sparkSess.read_data()\n",
    "\n",
    "        try :\n",
    "            assert( self.sparkSess.data.count() != 0 )\n",
    "\n",
    "            print('--------- Successfull Run LoadData ------------')\n",
    "            self.success += 1\n",
    "\n",
    "        except AssertionError as msg:  \n",
    "\n",
    "            self.failure +=1\n",
    "\n",
    "            print(msg)\n",
    "            \n",
    "\n",
    "\n",
    "\n",
    "    def test_transformq1(self):\n",
    "\n",
    "        self.trans = Transform(self.sparkSess.data)\n",
    "\n",
    "        self.trans.transform_q1()\n",
    "\n",
    "        try:\n",
    "\n",
    "            assert_frame_equal(\n",
    "                self.trans.output1.toPandas().applymap(str) , \n",
    "                pd.read_csv('../test_output/Output1.tsv',sep='\\t').applymap(str))\n",
    "\n",
    "            print('--------- Successfull Run Transformq1 ------------')\n",
    "            self.success += 1\n",
    "\n",
    "        except AssertionError as msg:  \n",
    "            print(msg) \n",
    "            self.failure +=1\n",
    "\n",
    "    def test_transformq2(self):\n",
    "\n",
    "        self.trans = Transform(self.sparkSess.data)\n",
    "        \n",
    "        self.trans.transform_q2()\n",
    "\n",
    "        try :\n",
    "\n",
    "            assert_frame_equal(self.trans.output2.toPandas() ,\n",
    "                                pd.read_csv(config['output_location2'] ,sep='\\t'))\n",
    "\n",
    "            print('--------- Successfull Run Transformq2 ------------')\n",
    "            self.success += 1\n",
    "\n",
    "        except AssertionError as msg:  \n",
    "            print(msg) \n",
    "            self.failure +=1\n",
    "\n",
    "    def test_transformq3(self):\n",
    "\n",
    "        self.trans = Transform(self.sparkSess.data)\n",
    "        \n",
    "        self.trans.transform_q3()\n",
    "        try :\n",
    "            assert_frame_equal(self.trans.output3.toPandas() ,\n",
    "                             pd.read_csv(config['output_location3'] ,sep='\\t'))\n",
    "\n",
    "            print('--------- Successfull Run Transformq3 ------------')\n",
    "            self.success += 1\n",
    "\n",
    "\n",
    "        except AssertionError as msg:  \n",
    "            print(msg) \n",
    "            self.failure +=1\n",
    "\n",
    "\n"
   ]
  },
  {
   "cell_type": "code",
   "execution_count": 2,
   "metadata": {},
   "outputs": [
    {
     "data": {
      "text/plain": [
       "'../test_output/Output1.csv'"
      ]
     },
     "execution_count": 2,
     "metadata": {},
     "output_type": "execute_result"
    }
   ],
   "source": [
    "config['output_location1']"
   ]
  },
  {
   "cell_type": "code",
   "execution_count": 5,
   "metadata": {},
   "outputs": [
    {
     "data": {
      "text/plain": [
       "'/Users/kazi.rahman/Desktop/pyspark_learning/spark_vscodechange/jobs'"
      ]
     },
     "execution_count": 5,
     "metadata": {},
     "output_type": "execute_result"
    }
   ],
   "source": [
    "pwd"
   ]
  },
  {
   "cell_type": "code",
   "execution_count": 2,
   "metadata": {},
   "outputs": [
    {
     "name": "stdout",
     "output_type": "stream",
     "text": [
      "--------- Successfull Run LoadData ------------\n"
     ]
    },
    {
     "ename": "NameError",
     "evalue": "name 'trans' is not defined",
     "output_type": "error",
     "traceback": [
      "\u001b[0;31m---------------------------------------------------------------------------\u001b[0m",
      "\u001b[0;31mNameError\u001b[0m                                 Traceback (most recent call last)",
      "\u001b[0;32m<ipython-input-2-67a8d31d3e46>\u001b[0m in \u001b[0;36m<module>\u001b[0;34m\u001b[0m\n\u001b[1;32m      4\u001b[0m \u001b[0;34m\u001b[0m\u001b[0m\n\u001b[1;32m      5\u001b[0m \u001b[0;34m\u001b[0m\u001b[0m\n\u001b[0;32m----> 6\u001b[0;31m \u001b[0munitTest\u001b[0m\u001b[0;34m.\u001b[0m\u001b[0mtest_transformq1\u001b[0m\u001b[0;34m(\u001b[0m\u001b[0;34m)\u001b[0m\u001b[0;34m\u001b[0m\u001b[0;34m\u001b[0m\u001b[0m\n\u001b[0m\u001b[1;32m      7\u001b[0m \u001b[0;34m\u001b[0m\u001b[0m\n\u001b[1;32m      8\u001b[0m \u001b[0munitTest\u001b[0m\u001b[0;34m.\u001b[0m\u001b[0mtest_transformq2\u001b[0m\u001b[0;34m(\u001b[0m\u001b[0;34m)\u001b[0m\u001b[0;34m\u001b[0m\u001b[0;34m\u001b[0m\u001b[0m\n",
      "\u001b[0;32m<ipython-input-1-03ff7f83b661>\u001b[0m in \u001b[0;36mtest_transformq1\u001b[0;34m(self)\u001b[0m\n\u001b[1;32m     56\u001b[0m \u001b[0;34m\u001b[0m\u001b[0m\n\u001b[1;32m     57\u001b[0m             assert_frame_equal(\n\u001b[0;32m---> 58\u001b[0;31m                 \u001b[0mtrans\u001b[0m\u001b[0;34m.\u001b[0m\u001b[0moutput1\u001b[0m\u001b[0;34m.\u001b[0m\u001b[0mtoPandas\u001b[0m\u001b[0;34m(\u001b[0m\u001b[0;34m)\u001b[0m\u001b[0;34m.\u001b[0m\u001b[0mapplymap\u001b[0m\u001b[0;34m(\u001b[0m\u001b[0mstr\u001b[0m\u001b[0;34m)\u001b[0m \u001b[0;34m,\u001b[0m\u001b[0;34m\u001b[0m\u001b[0;34m\u001b[0m\u001b[0m\n\u001b[0m\u001b[1;32m     59\u001b[0m                 pd.read_csv('../test_output/Output1.tsv',sep='\\t').applymap(str))\n\u001b[1;32m     60\u001b[0m \u001b[0;34m\u001b[0m\u001b[0m\n",
      "\u001b[0;31mNameError\u001b[0m: name 'trans' is not defined"
     ]
    }
   ],
   "source": [
    "\n",
    "\n",
    "    unitTest = UnitTest('Unitesting')\n",
    "\n",
    "    unitTest.test_loadData()\n",
    "\n",
    "\n",
    "    unitTest.test_transformq1()\n",
    "\n",
    "    unitTest.test_transformq2()\n",
    "\n",
    "    unitTest.test_transformq3()\n",
    "\n",
    "    print(f'Number of Successful Run {unitTest.success} ')\n",
    "\n",
    "    print(f'Number of Failed Run {unitTest.failure} ')"
   ]
  },
  {
   "cell_type": "code",
   "execution_count": null,
   "metadata": {},
   "outputs": [],
   "source": []
  }
 ],
 "metadata": {
  "kernelspec": {
   "display_name": "Python 3",
   "language": "python",
   "name": "python3"
  },
  "language_info": {
   "codemirror_mode": {
    "name": "ipython",
    "version": 3
   },
   "file_extension": ".py",
   "mimetype": "text/x-python",
   "name": "python",
   "nbconvert_exporter": "python",
   "pygments_lexer": "ipython3",
   "version": "3.7.4"
  }
 },
 "nbformat": 4,
 "nbformat_minor": 4
}
